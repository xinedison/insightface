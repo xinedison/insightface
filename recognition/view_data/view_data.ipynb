{
 "cells": [
  {
   "cell_type": "code",
   "execution_count": null,
   "metadata": {},
   "outputs": [],
   "source": [
    "import sys\n",
    "import os\n",
    "\n",
    "from matplotlib import pyplot as plt\n",
    "\n",
    "sys.path.append(os.path.expanduser('~/insightface/recognition'))\n",
    "from image_iter import FaceImageIter"
   ]
  },
  {
   "cell_type": "code",
   "execution_count": null,
   "metadata": {},
   "outputs": [],
   "source": [
    "import mxnet as mx\n",
    "\n",
    "train_dataiter = FaceImageIter(\n",
    "    batch_size           = 4,\n",
    "    data_shape           = (3,112,112),\n",
    "    path_imgrec          = '/data4/face_datasets/faces_ms1m_112x112/train.rec',\n",
    "    shuffle              = True,\n",
    "    rand_mirror          = False,\n",
    "    mean                 = None,\n",
    "    cutoff               = False,\n",
    "    color_jittering      = 0,\n",
    "    images_filter        = 0,\n",
    ")\n",
    "train_dataiter = mx.io.PrefetchingIter(train_dataiter)\n",
    "data_iter = iter(train_dataiter)"
   ]
  },
  {
   "cell_type": "code",
   "execution_count": null,
   "metadata": {},
   "outputs": [],
   "source": [
    "import numpy as np\n",
    "def show(batch):\n",
    "    datas = batch.data[0]\n",
    "    labels = batch.label[0]\n",
    "    for data, label in zip(datas, labels):\n",
    "        img = data.asnumpy().transpose((1,2,0))/255\n",
    "        print(img.shape)\n",
    "        print(label)\n",
    "        plt.imshow(img)\n",
    "        plt.show()"
   ]
  },
  {
   "cell_type": "code",
   "execution_count": null,
   "metadata": {},
   "outputs": [],
   "source": [
    "next_data_batch = next(data_iter)\n",
    "show(next_data_batch)"
   ]
  },
  {
   "cell_type": "code",
   "execution_count": null,
   "metadata": {},
   "outputs": [],
   "source": []
  }
 ],
 "metadata": {
  "kernelspec": {
   "display_name": "Python 3",
   "language": "python",
   "name": "python3"
  },
  "language_info": {
   "codemirror_mode": {
    "name": "ipython",
    "version": 3
   },
   "file_extension": ".py",
   "mimetype": "text/x-python",
   "name": "python",
   "nbconvert_exporter": "python",
   "pygments_lexer": "ipython3",
   "version": "3.6.7"
  }
 },
 "nbformat": 4,
 "nbformat_minor": 2
}
